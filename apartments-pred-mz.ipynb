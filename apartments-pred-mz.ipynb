{
 "cells": [
  {
   "cell_type": "markdown",
   "metadata": {},
   "source": [
    "# Metody pozyskiwania wiedzy z danych - projekt zaliczeniowy\n",
    "\n",
    "Narzędzie pozwalające użytkownikowi na estymację ceny mieszkania w zależności od podanych parametrów.\n",
    "\n",
    "Skład zespołu: \n",
    "- Zapalski, \n",
    "- Szkatuła, \n",
    "- Pietrzyk, \n",
    "- Śmiałowski"
   ]
  },
  {
   "cell_type": "markdown",
   "metadata": {},
   "source": [
    "## To do:\n",
    "- opis zestawu danych i jego źródła\n",
    "- analiza eksploracyjna zestawu danych (info o zmiennych, statystki opisowe, rozkłady, korelacje, .... )\n",
    "- analiza wizualna (przedstawienie danych w formie wizualnej, przeprowadzenie analiz zależności pomiędzy zmiennymi, heatmapy z najczęstszymi miejscami, ... )\n",
    "- ocztszczenie danych (outliery, NA itd. )\n",
    "- pierwszy model\n",
    "- feature enginering\n",
    "- zastosowanie różnych typów modeli (?)\n",
    "- hyperparameters tuning na najlepszym modelu\n",
    "- stworzenie coś na wzór UX w noteboooku"
   ]
  },
  {
   "cell_type": "markdown",
   "metadata": {},
   "source": [
    "## Notes:\n",
    "- zrobić coś na wzór UI dla użytkownika końcowego (może być jako suwaczki w jupyterze albo API)\n",
    "- lista dzielnic i miast, feature enginering na zmiennej adres tak zeby wyciagnac dzielnice\n",
    "- analiza danych, statystki opisowe, wykresy i mapki"
   ]
  },
  {
   "cell_type": "markdown",
   "metadata": {},
   "source": [
    "## Code"
   ]
  },
  {
   "cell_type": "code",
   "execution_count": 108,
   "metadata": {},
   "outputs": [],
   "source": [
    "import pandas as pd\n",
    "import matplotlib as plt\n",
    "import numpy as np\n",
    "\n",
    "from sklearn.metrics import mean_squared_error, r2_score\n",
    "\n",
    "from sklearn.model_selection import train_test_split\n",
    "from sklearn.model_selection import cross_val_score\n",
    "\n",
    "from sklearn.tree import DecisionTreeRegressor\n",
    "import catboost as ctb"
   ]
  },
  {
   "cell_type": "code",
   "execution_count": 109,
   "metadata": {},
   "outputs": [
    {
     "name": "stdout",
     "output_type": "stream",
     "text": [
      "/Users/mikolaj/Desktop/2 semestr/wiedza-dane/!projekt\r\n"
     ]
    }
   ],
   "source": [
    "!pwd"
   ]
  },
  {
   "cell_type": "code",
   "execution_count": 110,
   "metadata": {},
   "outputs": [
    {
     "data": {
      "text/html": [
       "<div>\n",
       "<style scoped>\n",
       "    .dataframe tbody tr th:only-of-type {\n",
       "        vertical-align: middle;\n",
       "    }\n",
       "\n",
       "    .dataframe tbody tr th {\n",
       "        vertical-align: top;\n",
       "    }\n",
       "\n",
       "    .dataframe thead th {\n",
       "        text-align: right;\n",
       "    }\n",
       "</style>\n",
       "<table border=\"1\" class=\"dataframe\">\n",
       "  <thead>\n",
       "    <tr style=\"text-align: right;\">\n",
       "      <th></th>\n",
       "      <th>address</th>\n",
       "      <th>city</th>\n",
       "      <th>floor</th>\n",
       "      <th>id</th>\n",
       "      <th>latitude</th>\n",
       "      <th>longitude</th>\n",
       "      <th>price</th>\n",
       "      <th>rooms</th>\n",
       "      <th>sq</th>\n",
       "      <th>year</th>\n",
       "    </tr>\n",
       "  </thead>\n",
       "  <tbody>\n",
       "    <tr>\n",
       "      <th>0</th>\n",
       "      <td>Podgórze Zab³ocie Stanis³awa Klimeckiego</td>\n",
       "      <td>Kraków</td>\n",
       "      <td>2.0</td>\n",
       "      <td>23918.0</td>\n",
       "      <td>50.049224</td>\n",
       "      <td>19.970379</td>\n",
       "      <td>749000.0</td>\n",
       "      <td>3.0</td>\n",
       "      <td>74.05</td>\n",
       "      <td>2021.0</td>\n",
       "    </tr>\n",
       "    <tr>\n",
       "      <th>1</th>\n",
       "      <td>Praga-Po³udnie Grochowska</td>\n",
       "      <td>Warszawa</td>\n",
       "      <td>3.0</td>\n",
       "      <td>17828.0</td>\n",
       "      <td>52.249775</td>\n",
       "      <td>21.106886</td>\n",
       "      <td>240548.0</td>\n",
       "      <td>1.0</td>\n",
       "      <td>24.38</td>\n",
       "      <td>2021.0</td>\n",
       "    </tr>\n",
       "    <tr>\n",
       "      <th>2</th>\n",
       "      <td>Krowodrza Czarnowiejska</td>\n",
       "      <td>Kraków</td>\n",
       "      <td>2.0</td>\n",
       "      <td>22784.0</td>\n",
       "      <td>50.066964</td>\n",
       "      <td>19.920025</td>\n",
       "      <td>427000.0</td>\n",
       "      <td>2.0</td>\n",
       "      <td>37.00</td>\n",
       "      <td>1970.0</td>\n",
       "    </tr>\n",
       "    <tr>\n",
       "      <th>3</th>\n",
       "      <td>Grunwald</td>\n",
       "      <td>Poznañ</td>\n",
       "      <td>2.0</td>\n",
       "      <td>4315.0</td>\n",
       "      <td>52.404212</td>\n",
       "      <td>16.882542</td>\n",
       "      <td>1290000.0</td>\n",
       "      <td>5.0</td>\n",
       "      <td>166.00</td>\n",
       "      <td>1935.0</td>\n",
       "    </tr>\n",
       "    <tr>\n",
       "      <th>4</th>\n",
       "      <td>Ochota Gotowy budynek. Stan deweloperski. Osta...</td>\n",
       "      <td>Warszawa</td>\n",
       "      <td>1.0</td>\n",
       "      <td>11770.0</td>\n",
       "      <td>52.212225</td>\n",
       "      <td>20.972630</td>\n",
       "      <td>996000.0</td>\n",
       "      <td>5.0</td>\n",
       "      <td>105.00</td>\n",
       "      <td>2020.0</td>\n",
       "    </tr>\n",
       "  </tbody>\n",
       "</table>\n",
       "</div>"
      ],
      "text/plain": [
       "                                             address      city  floor  \\\n",
       "0           Podgórze Zab³ocie Stanis³awa Klimeckiego    Kraków    2.0   \n",
       "1                          Praga-Po³udnie Grochowska  Warszawa    3.0   \n",
       "2                            Krowodrza Czarnowiejska    Kraków    2.0   \n",
       "3                                           Grunwald    Poznañ    2.0   \n",
       "4  Ochota Gotowy budynek. Stan deweloperski. Osta...  Warszawa    1.0   \n",
       "\n",
       "        id   latitude  longitude      price  rooms      sq    year  \n",
       "0  23918.0  50.049224  19.970379   749000.0    3.0   74.05  2021.0  \n",
       "1  17828.0  52.249775  21.106886   240548.0    1.0   24.38  2021.0  \n",
       "2  22784.0  50.066964  19.920025   427000.0    2.0   37.00  1970.0  \n",
       "3   4315.0  52.404212  16.882542  1290000.0    5.0  166.00  1935.0  \n",
       "4  11770.0  52.212225  20.972630   996000.0    5.0  105.00  2020.0  "
      ]
     },
     "execution_count": 110,
     "metadata": {},
     "output_type": "execute_result"
    }
   ],
   "source": [
    "df = pd.read_csv(\"data/Houses.csv\", encoding='latin-1',index_col=0)\n",
    "df.head()"
   ]
  },
  {
   "cell_type": "code",
   "execution_count": 111,
   "metadata": {},
   "outputs": [],
   "source": [
    "# wybranie zmiennych jakościowych\n",
    "obj_feats = list(df.select_dtypes(np.object).columns)\n",
    "\n",
    "# zamiana ich na liczby\n",
    "for feat in obj_feats:\n",
    "    df[\"{}_cat\".format(feat)] = df[feat].factorize()[0]\n",
    "\n",
    "black_list = [\"address\", \"city\"]\n",
    "\n",
    "feats = df.select_dtypes(include=[np.number, np.bool]).columns\n",
    "feats = [x for x in feats if x not in black_list]\n",
    "\n",
    "X = df[feats].to_numpy()\n",
    "y = df[\"price\"].to_numpy()\n",
    "\n",
    "# podział na train/test\n",
    "X_train, X_test, y_train, y_test = train_test_split(X, y, test_size=0.3)"
   ]
  },
  {
   "cell_type": "code",
   "execution_count": 112,
   "metadata": {},
   "outputs": [],
   "source": [
    "model = ctb.CatBoostRegressor(verbose=False)\n",
    "#cross_val_score(model, X_train, y_train, cv=3, scoring='r2')"
   ]
  },
  {
   "cell_type": "code",
   "execution_count": 113,
   "metadata": {},
   "outputs": [],
   "source": [
    "model.fit(X_train, y_train)\n",
    "y_pred = model.predict(X_test)"
   ]
  },
  {
   "cell_type": "code",
   "execution_count": 114,
   "metadata": {},
   "outputs": [
    {
     "data": {
      "text/plain": [
       "0.9318582441888341"
      ]
     },
     "execution_count": 114,
     "metadata": {},
     "output_type": "execute_result"
    }
   ],
   "source": [
    "r2_score(y_test, y_pred)"
   ]
  },
  {
   "cell_type": "code",
   "execution_count": 117,
   "metadata": {},
   "outputs": [
    {
     "data": {
      "text/plain": [
       "520000.0"
      ]
     },
     "execution_count": 117,
     "metadata": {},
     "output_type": "execute_result"
    }
   ],
   "source": [
    "df[\"price\"].median()"
   ]
  },
  {
   "cell_type": "code",
   "execution_count": 116,
   "metadata": {},
   "outputs": [
    {
     "data": {
      "text/plain": [
       "147359.68873493944"
      ]
     },
     "execution_count": 116,
     "metadata": {},
     "output_type": "execute_result"
    }
   ],
   "source": [
    "rms = mean_squared_error(y_test, y_pred, squared=False)\n",
    "rms"
   ]
  }
 ],
 "metadata": {
  "kernelspec": {
   "display_name": "Python 3",
   "language": "python",
   "name": "python3"
  },
  "language_info": {
   "codemirror_mode": {
    "name": "ipython",
    "version": 3
   },
   "file_extension": ".py",
   "mimetype": "text/x-python",
   "name": "python",
   "nbconvert_exporter": "python",
   "pygments_lexer": "ipython3",
   "version": "3.9.0"
  }
 },
 "nbformat": 4,
 "nbformat_minor": 4
}
